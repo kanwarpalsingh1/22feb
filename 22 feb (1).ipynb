{
 "cells": [
  {
   "cell_type": "code",
   "execution_count": 1,
   "id": "8d1d1930-0af9-4d6e-9779-495ff96144bc",
   "metadata": {},
   "outputs": [
    {
     "name": "stdout",
     "output_type": "stream",
     "text": [
      "0     4\n",
      "1     8\n",
      "2    15\n",
      "3    16\n",
      "4    23\n",
      "5    42\n",
      "dtype: int64\n"
     ]
    }
   ],
   "source": [
    "'''Q1. Create a Pandas Series that contains the following data: 4, 8, 15, 16, 23, and 42. Then, print the series.'''\n",
    "import pandas as pd\n",
    "\n",
    "# Create a Pandas Series\n",
    "data = [4, 8, 15, 16, 23, 42]\n",
    "series = pd.Series(data)\n",
    "\n",
    "# Print the Series\n",
    "print(series)"
   ]
  },
  {
   "cell_type": "code",
   "execution_count": 2,
   "id": "a48b5e9d-c416-4335-b95c-4de105219551",
   "metadata": {},
   "outputs": [
    {
     "name": "stdout",
     "output_type": "stream",
     "text": [
      "0     1\n",
      "1     2\n",
      "2     3\n",
      "3     4\n",
      "4     5\n",
      "5     6\n",
      "6     7\n",
      "7     8\n",
      "8     9\n",
      "9    10\n",
      "dtype: int64\n"
     ]
    }
   ],
   "source": [
    "'''Q2. Create a variable of list type containing 10 elements in it, and apply pandas.Series function on the\n",
    "variable print it.'''\n",
    "import pandas as pd\n",
    "\n",
    "# Create a list with 10 elements\n",
    "my_list = [1, 2, 3, 4, 5, 6, 7, 8, 9, 10]\n",
    "\n",
    "# Convert the list to a Pandas Series\n",
    "series = pd.Series(my_list)\n",
    "\n",
    "# Print the Pandas Series\n",
    "print(series)"
   ]
  },
  {
   "cell_type": "code",
   "execution_count": 3,
   "id": "723a4c9d-09bf-429a-9d8e-98339c2008e8",
   "metadata": {},
   "outputs": [
    {
     "name": "stdout",
     "output_type": "stream",
     "text": [
      "     Name  Age  Gender\n",
      "0   Alice   25  Female\n",
      "1     Bob   30    Male\n",
      "2  Claire   27  Female\n"
     ]
    }
   ],
   "source": [
    "'''Q3. Create a Pandas DataFrame that contains the following data:'''\n",
    "import pandas as pd\n",
    "\n",
    "# Create a dictionary with the data\n",
    "data = {\n",
    "    'Name': ['Alice', 'Bob', 'Claire'],\n",
    "    'Age': [25, 30, 27],\n",
    "    'Gender': ['Female', 'Male', 'Female']\n",
    "}\n",
    "\n",
    "# Create a Pandas DataFrame from the dictionary\n",
    "df = pd.DataFrame(data)\n",
    "\n",
    "# Print the DataFrame\n",
    "print(df)"
   ]
  },
  {
   "cell_type": "code",
   "execution_count": 4,
   "id": "b1cc45ab-faee-438d-ad28-142e78f3a347",
   "metadata": {},
   "outputs": [
    {
     "name": "stdout",
     "output_type": "stream",
     "text": [
      "DataFrame:\n",
      "     Name  Age  Gender\n",
      "0   Alice   25  Female\n",
      "1     Bob   30    Male\n",
      "2  Claire   27  Female\n",
      "\n",
      "Series (Age column):\n",
      "0    25\n",
      "1    30\n",
      "2    27\n",
      "Name: Age, dtype: int64\n"
     ]
    }
   ],
   "source": [
    "'''Q4. What is ‘DataFrame’ in pandas and how is it different from pandas.series? Explain with an example.'''\n",
    "import pandas as pd\n",
    "\n",
    "# Create a dictionary with some data\n",
    "data = {\n",
    "    'Name': ['Alice', 'Bob', 'Claire'],\n",
    "    'Age': [25, 30, 27],\n",
    "    'Gender': ['Female', 'Male', 'Female']\n",
    "}\n",
    "\n",
    "# Create a DataFrame from the dictionary\n",
    "df = pd.DataFrame(data)\n",
    "\n",
    "# Print the DataFrame\n",
    "print(\"DataFrame:\")\n",
    "print(df)\n",
    "print()\n",
    "\n",
    "# Extract a Series from the DataFrame\n",
    "age_series = df['Age']\n",
    "\n",
    "# Print the Series\n",
    "print(\"Series (Age column):\")\n",
    "print(age_series)"
   ]
  },
  {
   "cell_type": "markdown",
   "id": "83a15040-889a-4a57-9038-9829618a9b5e",
   "metadata": {},
   "source": [
    "'''Q5. What are some common functions you can use to manipulate data in a Pandas DataFrame? Can\n",
    "you give an example of when you might use one of these functions?'''\n",
    "head() and tail(): These functions are used to view the first or last few rows of the DataFrame, respectively. They are helpful for quickly inspecting the structure and contents of the DataFrame.\n",
    "\n",
    "info(): This function provides a concise summary of the DataFrame, including the data types, non-null counts, and memory usage. It is useful for understanding the composition of the DataFrame and identifying missing values.\n",
    "\n",
    "describe(): This function generates descriptive statistics for numerical columns in the DataFrame, such as count, mean, standard deviation, minimum, maximum, and quartiles. It provides insights into the distribution and central tendency of the data.\n",
    "\n",
    "loc[] and iloc[]: These functions are used for selecting rows and columns from the DataFrame based on labels (index names) or integer indices, respectively. They enable both label-based and integer-based indexing for data retrieval and manipulation.\n",
    "\n",
    "drop(): This function is used to remove rows or columns from the DataFrame. It allows you to specify the labels of rows or columns to be dropped, as well as the axis along which to drop (0 for rows, 1 for columns).\n",
    "\n",
    "fillna(): This function is used to fill missing (NaN) values in the DataFrame with a specified value or a method such as forward fill or backward fill. It helps in handling missing data and ensuring the completeness of the dataset.\n",
    "\n",
    "groupby(): This function is used to group data in the DataFrame based on one or more columns and perform operations (e.g., aggregation, transformation) on each group. It is useful for analyzing data by categories or segments.\n",
    "\n",
    "apply(): This function is used to apply a function along one or more axes of the DataFrame. It can be used to transform each element, row, or column of the DataFrame using a custom or built-in function.\n",
    "\n",
    "sort_values(): This function is used to sort the DataFrame by one or more columns. It allows you to specify the columns to sort by and the order (ascending or descending) of sorting.\n",
    "\n",
    "pivot_table(): This function is used to create a pivot table from the DataFrame, aggregating data based on one or more columns and applying aggregation functions such as sum, mean, count, etc."
   ]
  },
  {
   "cell_type": "markdown",
   "id": "eadd9af6-265a-48b2-a6c1-ad3daeb0f443",
   "metadata": {},
   "source": [
    "Q6. Which of the following is mutable in nature Series, DataFrame, Panel?\n",
    "Series: A Pandas Series is a one-dimensional labeled array that can contain data of any type. It is mutable, meaning that you can modify its elements, change its values, or add/remove elements after creation. For example, you can update the values of a Series using indexing or assignment (series[index] = value).\n",
    "\n",
    "DataFrame: A Pandas DataFrame is a two-dimensional labeled data structure with columns of potentially different types. Like Series, it is mutable, allowing you to modify its contents, add or remove columns, or perform various data manipulation operations. You can update values, add new columns, or drop existing columns using DataFrame methods and functions.\n",
    "\n",
    "Panel: A Pandas Panel is a three-dimensional labeled data structure that can be thought of as a container for DataFrame objects. However, Panels are not mutable; once created, their structure and contents cannot be modified. Panels were deprecated in Pandas version 0.25.0 and are no longer recommended for use. Instead, you can use multi-index DataFrames or other data structures to represent multidimensional data."
   ]
  },
  {
   "cell_type": "code",
   "execution_count": 5,
   "id": "a9f22001-6297-4f32-8595-6f6032ad3ade",
   "metadata": {},
   "outputs": [
    {
     "name": "stdout",
     "output_type": "stream",
     "text": [
      "     Name  Age  Gender\n",
      "0   Alice   25  Female\n",
      "1     Bob   30    Male\n",
      "2  Claire   27  Female\n"
     ]
    }
   ],
   "source": [
    "'''Q7. Create a DataFrame using multiple Series. Explain with an example.'''\n",
    "import pandas as pd\n",
    "\n",
    "# Create multiple Series\n",
    "name_series = pd.Series(['Alice', 'Bob', 'Claire'])\n",
    "age_series = pd.Series([25, 30, 27])\n",
    "gender_series = pd.Series(['Female', 'Male', 'Female'])\n",
    "\n",
    "# Create a DataFrame using the Series\n",
    "df = pd.DataFrame({\n",
    "    'Name': name_series,\n",
    "    'Age': age_series,\n",
    "    'Gender': gender_series\n",
    "})\n",
    "\n",
    "# Print the DataFrame\n",
    "print(df)"
   ]
  },
  {
   "cell_type": "code",
   "execution_count": null,
   "id": "e56ae330-a30c-443b-9b71-de96d2a857cd",
   "metadata": {},
   "outputs": [],
   "source": []
  }
 ],
 "metadata": {
  "kernelspec": {
   "display_name": "Python 3 (ipykernel)",
   "language": "python",
   "name": "python3"
  },
  "language_info": {
   "codemirror_mode": {
    "name": "ipython",
    "version": 3
   },
   "file_extension": ".py",
   "mimetype": "text/x-python",
   "name": "python",
   "nbconvert_exporter": "python",
   "pygments_lexer": "ipython3",
   "version": "3.10.8"
  }
 },
 "nbformat": 4,
 "nbformat_minor": 5
}
